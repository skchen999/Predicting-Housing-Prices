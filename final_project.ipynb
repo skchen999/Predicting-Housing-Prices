{
  "nbformat": 4,
  "nbformat_minor": 0,
  "metadata": {
    "colab": {
      "name": "final_project.ipynb",
      "provenance": [],
      "collapsed_sections": []
    },
    "kernelspec": {
      "name": "python3",
      "display_name": "Python 3"
    },
    "language_info": {
      "name": "python"
    }
  },
  "cells": [
    {
      "cell_type": "code",
      "metadata": {
        "id": "ta8PcE6bx1uU",
        "colab": {
          "base_uri": "https://localhost:8080/"
        },
        "outputId": "f77e141c-fa36-47ec-870e-de2c45240181"
      },
      "source": [
        "print(\"Hello World\")"
      ],
      "execution_count": null,
      "outputs": [
        {
          "output_type": "stream",
          "name": "stdout",
          "text": [
            "Hello World\n"
          ]
        }
      ]
    },
    {
      "cell_type": "code",
      "metadata": {
        "id": "HSMx5CtVyG8z",
        "colab": {
          "base_uri": "https://localhost:8080/"
        },
        "outputId": "dc1512bb-8af9-464f-97d5-9a2244b9e60e"
      },
      "source": [
        "print(\"pls give me pizza\")"
      ],
      "execution_count": 2,
      "outputs": [
        {
          "output_type": "stream",
          "name": "stdout",
          "text": [
            "pls give me pizza\n"
          ]
        }
      ]
    },
    {
      "cell_type": "code",
      "metadata": {
        "colab": {
          "base_uri": "https://localhost:8080/"
        },
        "id": "zOHJCAAryyn5",
        "outputId": "433afc3f-38d9-4e58-f08f-e1412b990373"
      },
      "source": [
        "print(\"one more time\")"
      ],
      "execution_count": 3,
      "outputs": [
        {
          "output_type": "stream",
          "name": "stdout",
          "text": [
            "one more time\n"
          ]
        }
      ]
    }
  ]
}